{
 "cells": [
  {
   "cell_type": "markdown",
   "id": "9a57c4c6",
   "metadata": {},
   "source": [
    "# MONGO DB\n",
    "## trails_columbia_river_gorge"
   ]
  },
  {
   "cell_type": "markdown",
   "id": "064ef857",
   "metadata": {},
   "source": [
    "## Part 1: Database and Jupyter Notebook Set Up"
   ]
  },
  {
   "cell_type": "markdown",
   "id": "accd2afc",
   "metadata": {},
   "source": [
    "\n",
    "Database `trails_columbia_river_gorge` has 1 collection: \n",
    "\n",
    "`family_friendly_trailData`\n"
   ]
  },
  {
   "cell_type": "markdown",
   "id": "664e3c1f",
   "metadata": {},
   "source": [
    "Use the cd command in your terminal to navigate to the \"resources/cleaned_data\" folder\n",
    "\n",
    "Once you’re in the correct folder, run the following command in the terminal:\n",
    "\n",
    "`mongoimport --type json -d trails_columbia_river_gorge -c family_friendly_trailData --drop --jsonArray trailData.json`\n"
   ]
  },
  {
   "cell_type": "markdown",
   "id": "a5b70186",
   "metadata": {},
   "source": [
    "\n",
    "\n",
    "or Import the datasets with `MongoDB Compass`"
   ]
  },
  {
   "cell_type": "code",
   "execution_count": 1,
   "id": "3ecdd008",
   "metadata": {},
   "outputs": [],
   "source": [
    "# Import dependencies\n",
    "from pymongo import MongoClient\n",
    "import json\n",
    "from pprint import pprint"
   ]
  },
  {
   "cell_type": "code",
   "execution_count": 2,
   "id": "59390c4a",
   "metadata": {},
   "outputs": [],
   "source": [
    "# Create an instance of MongoClient\n",
    "mongo = MongoClient(port=27017)"
   ]
  },
  {
   "cell_type": "code",
   "execution_count": 3,
   "id": "7f9ececa",
   "metadata": {},
   "outputs": [],
   "source": [
    "# confirm that our new database was created\n",
    "db = mongo['trails_columbia_river_gorge']"
   ]
  },
  {
   "cell_type": "code",
   "execution_count": 4,
   "id": "ef1b89ed",
   "metadata": {},
   "outputs": [
    {
     "name": "stdout",
     "output_type": "stream",
     "text": [
      "['admin', 'autosaurus', 'classDB', 'config', 'local', 'met', 'trails_columbia_river_gorge']\n"
     ]
    }
   ],
   "source": [
    "# review the collections in our new database\n",
    "print(mongo.list_database_names())"
   ]
  },
  {
   "cell_type": "code",
   "execution_count": 5,
   "id": "11c9f11b",
   "metadata": {},
   "outputs": [],
   "source": [
    "# assign the collection to a variable\n",
    "family_friendly_trailData = db['family_friendly_trailData']\n"
   ]
  },
  {
   "cell_type": "code",
   "execution_count": 8,
   "id": "db647abe",
   "metadata": {},
   "outputs": [
    {
     "name": "stdout",
     "output_type": "stream",
     "text": [
      "['family_friendly_trailData']\n"
     ]
    }
   ],
   "source": [
    "# review the collection in our new database\n",
    "print(db.list_collection_names())"
   ]
  },
  {
   "cell_type": "code",
   "execution_count": 9,
   "id": "e713d20f",
   "metadata": {},
   "outputs": [
    {
     "name": "stdout",
     "output_type": "stream",
     "text": [
      "{'_id': ObjectId('6798801b2a088a8f685d1817'),\n",
      " 'backpackable': 'No',\n",
      " 'crowded': 'No',\n",
      " 'difficulty': 'Easy',\n",
      " 'distance(miles)': 0.5,\n",
      " 'elevation_gain(feet)': 85,\n",
      " 'falling': 0,\n",
      " 'family_friendly': 'Yes',\n",
      " 'high_point(feet)': 150,\n",
      " 'latitude': 45.56058,\n",
      " 'longitude': -122.17239,\n",
      " 'posionivy': 0,\n",
      " 'rattlesnakes': 0,\n",
      " 'seasons': 'All year',\n",
      " 'ticks': 0,\n",
      " 'trail_name': 'Ainsworth Loop Hike',\n",
      " 'trail_type': 'loop'}\n"
     ]
    }
   ],
   "source": [
    "pprint(db.family_friendly_trailData.find_one())"
   ]
  },
  {
   "cell_type": "markdown",
   "id": "d5671434",
   "metadata": {},
   "source": [
    "## Part 2: Update the Database json file"
   ]
  },
  {
   "cell_type": "markdown",
   "id": "7caa5157",
   "metadata": {},
   "source": [
    "### Exporting data for future use in JavaScript/HTML\n",
    "\n",
    "run in terminal:\n",
    "\n",
    "`mongoexport --uri=\"mongodb://localhost:27017/trails_columbia_river_gorge\" --collection=family_friendly_trailData --out=trailData.json --jsonArray`"
   ]
  },
  {
   "cell_type": "markdown",
   "id": "e5abbce0",
   "metadata": {},
   "source": [
    "or export the full collection with `MongoDB Compass`\n",
    "\n",
    "but be sure the name of the file is `trailData.json`"
   ]
  }
 ],
 "metadata": {
  "kernelspec": {
   "display_name": "dev",
   "language": "python",
   "name": "python3"
  },
  "language_info": {
   "codemirror_mode": {
    "name": "ipython",
    "version": 3
   },
   "file_extension": ".py",
   "mimetype": "text/x-python",
   "name": "python",
   "nbconvert_exporter": "python",
   "pygments_lexer": "ipython3",
   "version": "3.10.15"
  }
 },
 "nbformat": 4,
 "nbformat_minor": 5
}
